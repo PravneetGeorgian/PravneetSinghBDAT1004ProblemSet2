{
 "cells": [
  {
   "cell_type": "markdown",
   "id": "e41b3b38",
   "metadata": {},
   "source": [
    "# Problem Set 2 - Pravneet Singh"
   ]
  },
  {
   "cell_type": "markdown",
   "id": "c600be86",
   "metadata": {},
   "source": [
    "### Question 1)"
   ]
  },
  {
   "cell_type": "markdown",
   "id": "c6f7b841",
   "metadata": {},
   "source": [
    "This problem set is based on lectures 4,5 and 6. For a complete list of topics please consult page 2 of the course syllabus. Please consult the “Instructions for Problem Set Submissions” document under course information before submitting your assignment."
   ]
  },
  {
   "cell_type": "code",
   "execution_count": 1,
   "id": "5e69bc5f",
   "metadata": {},
   "outputs": [],
   "source": [
    "a = 0  \n",
    "def b():     \n",
    "    global a     \n",
    "    a = c(a)  \n",
    "\n",
    "def c(a):     \n",
    "    return a + 2"
   ]
  },
  {
   "cell_type": "code",
   "execution_count": 2,
   "id": "4d4e87f1",
   "metadata": {},
   "outputs": [],
   "source": [
    "b()"
   ]
  },
  {
   "cell_type": "code",
   "execution_count": 3,
   "id": "e14f590d",
   "metadata": {},
   "outputs": [],
   "source": [
    "b()"
   ]
  },
  {
   "cell_type": "code",
   "execution_count": 4,
   "id": "3f33a031",
   "metadata": {},
   "outputs": [],
   "source": [
    "b()"
   ]
  },
  {
   "cell_type": "code",
   "execution_count": 5,
   "id": "02533ff1",
   "metadata": {},
   "outputs": [
    {
     "data": {
      "text/plain": [
       "6"
      ]
     },
     "execution_count": 5,
     "metadata": {},
     "output_type": "execute_result"
    }
   ],
   "source": [
    "a"
   ]
  },
  {
   "cell_type": "markdown",
   "id": "69b0496e",
   "metadata": {},
   "source": [
    "The answer to this is 6.\n",
    "\n",
    "This is because with the first function b call, the output returns 2.\n",
    "This is because a is first 0, then b() function is evaluated with a being 0, but as a=c(0), therefore c function is called as c(0) and returns 0 + 2 therefore the first iteration function b call returns 2.\n",
    "\n",
    "Likewise, the second function b call returns 4 and the third function b call returns 6.\n",
    "\n",
    "In the end the value of a is 6 with the third function b call returning a as 6."
   ]
  },
  {
   "cell_type": "markdown",
   "id": "91f1e0ff",
   "metadata": {},
   "source": [
    "### Question 2)"
   ]
  },
  {
   "cell_type": "markdown",
   "id": "5d13ce6a",
   "metadata": {},
   "source": [
    "Function fileLength(), given to you, takes the name of a file as input and returns the length of the file: \n",
    "As shown above, if the file cannot be found by the interpreter or if it cannot be read as a text file, an exception will be raised. Modify function fileLength() so that a friendly message is printed instead:  "
   ]
  },
  {
   "cell_type": "code",
   "execution_count": 6,
   "id": "d34890c8",
   "metadata": {},
   "outputs": [],
   "source": [
    "def file_length(file_name):\n",
    "    file = open(file_name, encoding=\"utf8\")\n",
    "    contents = file.read()\n",
    "    file.close()\n",
    "    print(len(contents))"
   ]
  },
  {
   "cell_type": "code",
   "execution_count": 7,
   "id": "6ab82e88",
   "metadata": {},
   "outputs": [
    {
     "name": "stdout",
     "output_type": "stream",
     "text": [
      "Sorry, the file urrencies.txt is not found.\n"
     ]
    }
   ],
   "source": [
    "file_name = 'urrencies.txt'\n",
    "try:\n",
    "    file_length('urrencies.txt')\n",
    "except FileNotFoundError:\n",
    "    msg = \"Sorry, the file \"+ file_name + \" is not found.\"\n",
    "    print(msg)"
   ]
  },
  {
   "cell_type": "markdown",
   "id": "259726eb",
   "metadata": {},
   "source": [
    "As shown above, with the try except (exception handling), the error has been replaced with a friendly error message as the file was incorrect and could not be read."
   ]
  },
  {
   "cell_type": "markdown",
   "id": "6b6cc4e1",
   "metadata": {},
   "source": [
    "### Question 3)"
   ]
  },
  {
   "cell_type": "markdown",
   "id": "ca908f5e",
   "metadata": {},
   "source": [
    "Write a class named Marsupial that can be used as shown below:  \n",
    "\n",
    "m = Marsupial() \n",
    "\n",
    "m.put_in_pouch('doll') \n",
    "\n",
    "m.put_in_pouch('firetruck')\n",
    "\n",
    "m.put_in_pouch('kitten') \n",
    "\n",
    "m.pouch_contents() \n",
    "\n",
    "['doll', 'firetruck', 'kitten'] \n",
    "\n",
    "Now write a class named Kangaroo as a subclass of Marsupial that inherits all the attributes of Marsupial and also: a. extends the Marsupial __init__ constructor to take, as input, the coordinates x and y of the Kangaroo object, b. supports method jump that takes number values dx and dy as input and moves the kangaroo by dx units along the x-axis and by dy units along the yaxis, and c. overloads the __str__ operator so it behaves as shown below. "
   ]
  },
  {
   "cell_type": "code",
   "execution_count": 8,
   "id": "de50bc69",
   "metadata": {},
   "outputs": [],
   "source": [
    "class Marsupial:\n",
    "    def __init__(self):\n",
    "        self.pouch = []\n",
    "\n",
    "    def put_in_pouch(self, item):\n",
    "        self.pouch.append(item)\n",
    "\n",
    "    def pouch_contents(self):\n",
    "        return self.pouch\n",
    "\n",
    "\n",
    "class Kangaroo(Marsupial):\n",
    "    def __init__(self, x, y):\n",
    "        super().__init__()\n",
    "        self.x = x\n",
    "        self.y = y\n",
    "\n",
    "    def jump(self, dx, dy):\n",
    "        self.x += dx\n",
    "        self.y += dy\n",
    "\n",
    "    def __str__(self):\n",
    "        return \"I am a Kangaroo located at coordinates ({},{})\".format(self.x, self.y)\n"
   ]
  },
  {
   "cell_type": "code",
   "execution_count": 9,
   "id": "28dc84ea",
   "metadata": {},
   "outputs": [],
   "source": [
    "m = Marsupial()\n",
    "m.put_in_pouch('doll')\n",
    "m.put_in_pouch('firetruck')\n",
    "m.put_in_pouch('kitten')"
   ]
  },
  {
   "cell_type": "code",
   "execution_count": 10,
   "id": "890ec9f7",
   "metadata": {},
   "outputs": [
    {
     "name": "stdout",
     "output_type": "stream",
     "text": [
      "['doll', 'firetruck', 'kitten']\n"
     ]
    }
   ],
   "source": [
    "print(m.pouch_contents())"
   ]
  },
  {
   "cell_type": "code",
   "execution_count": 11,
   "id": "1034050e",
   "metadata": {},
   "outputs": [],
   "source": [
    "k = Kangaroo(0, 0)"
   ]
  },
  {
   "cell_type": "code",
   "execution_count": 12,
   "id": "2c7a2f16",
   "metadata": {},
   "outputs": [
    {
     "name": "stdout",
     "output_type": "stream",
     "text": [
      "I am a Kangaroo located at coordinates (0,0)\n"
     ]
    }
   ],
   "source": [
    "print(k)"
   ]
  },
  {
   "cell_type": "code",
   "execution_count": 13,
   "id": "2fff7ed2",
   "metadata": {},
   "outputs": [],
   "source": [
    "k.put_in_pouch('doll')\n",
    "k.put_in_pouch('firetruck')\n",
    "k.put_in_pouch('kitten')"
   ]
  },
  {
   "cell_type": "code",
   "execution_count": 14,
   "id": "69213382",
   "metadata": {},
   "outputs": [
    {
     "name": "stdout",
     "output_type": "stream",
     "text": [
      "['doll', 'firetruck', 'kitten']\n"
     ]
    }
   ],
   "source": [
    "print(k.pouch_contents())"
   ]
  },
  {
   "cell_type": "code",
   "execution_count": 15,
   "id": "23158309",
   "metadata": {},
   "outputs": [],
   "source": [
    "k.jump(1, 0)\n",
    "k.jump(1, 0)\n",
    "k.jump(1, 0)"
   ]
  },
  {
   "cell_type": "code",
   "execution_count": 16,
   "id": "2bf9bc8b",
   "metadata": {},
   "outputs": [
    {
     "name": "stdout",
     "output_type": "stream",
     "text": [
      "I am a Kangaroo located at coordinates (3,0)\n"
     ]
    }
   ],
   "source": [
    "print(k)"
   ]
  },
  {
   "cell_type": "markdown",
   "id": "6efff68a",
   "metadata": {},
   "source": [
    "### Question 4)"
   ]
  },
  {
   "cell_type": "markdown",
   "id": "7439e98c",
   "metadata": {},
   "source": [
    "Write function collatz() that takes a positive integer x as input and prints the Collatz sequence starting at x. A Collatz sequence is obtained by repeatedly applying this rule to the previous number x in the sequence:   \n",
    "\n",
    "x = {  𝑥/2                    𝑖𝑓 𝑥 𝑖𝑠 𝑒𝑣𝑒𝑛 \n",
    "\n",
    "3𝑥+1              𝑖𝑓 𝑥 𝑖𝑠 𝑜𝑑𝑑 \n",
    "\n",
    "Your function should stop when the sequence gets to number 1. Your implementation must be recursive, without any loops. "
   ]
  },
  {
   "cell_type": "code",
   "execution_count": 17,
   "id": "d8d226f1",
   "metadata": {},
   "outputs": [],
   "source": [
    "def collatz(x):\n",
    "    print(x)\n",
    "    \n",
    "    if x == 1:\n",
    "        return\n",
    "    \n",
    "    if x % 2 == 0:\n",
    "        collatz(x // 2)\n",
    "    else:\n",
    "        collatz(3 * x + 1)"
   ]
  },
  {
   "cell_type": "code",
   "execution_count": 18,
   "id": "5c19074e",
   "metadata": {},
   "outputs": [
    {
     "name": "stdout",
     "output_type": "stream",
     "text": [
      "1\n"
     ]
    }
   ],
   "source": [
    " collatz(1)"
   ]
  },
  {
   "cell_type": "code",
   "execution_count": 19,
   "id": "e7be6945",
   "metadata": {},
   "outputs": [
    {
     "name": "stdout",
     "output_type": "stream",
     "text": [
      "10\n",
      "5\n",
      "16\n",
      "8\n",
      "4\n",
      "2\n",
      "1\n"
     ]
    }
   ],
   "source": [
    "collatz(10)"
   ]
  },
  {
   "cell_type": "markdown",
   "id": "0294b0d4",
   "metadata": {},
   "source": [
    "So as shown above, function stops till sequence gets to 1, it takes a positive integer x as input and prints the Collatz sequence starting at x"
   ]
  },
  {
   "cell_type": "markdown",
   "id": "0bc8a0fb",
   "metadata": {},
   "source": [
    "### Question 5)"
   ]
  },
  {
   "cell_type": "markdown",
   "id": "4301bf9a",
   "metadata": {},
   "source": [
    "Write a recursive method binary() that takes a non-negative integer n and prints the binary representation of integer n. "
   ]
  },
  {
   "cell_type": "code",
   "execution_count": 20,
   "id": "e1aa4c78",
   "metadata": {},
   "outputs": [],
   "source": [
    "def binary(n):\n",
    "    if n > 1:\n",
    "        binary(n//2)\n",
    "    print(n % 2,end = '')"
   ]
  },
  {
   "cell_type": "code",
   "execution_count": 21,
   "id": "99748dce",
   "metadata": {},
   "outputs": [
    {
     "name": "stdout",
     "output_type": "stream",
     "text": [
      "1001"
     ]
    }
   ],
   "source": [
    "binary(9)"
   ]
  },
  {
   "cell_type": "markdown",
   "id": "e4f2c861",
   "metadata": {},
   "source": [
    "As shown above, it takes a non neg integer n which is 9 and returns its binary equivalent 1001 as its taking the remainders when dividing by 2 and combining them."
   ]
  },
  {
   "cell_type": "markdown",
   "id": "f5359cfc",
   "metadata": {},
   "source": [
    "### Question 6)"
   ]
  },
  {
   "cell_type": "markdown",
   "id": "050963e8",
   "metadata": {},
   "source": [
    "Implement a class named HeadingParser that can be used to parse an HTML document, and retrieve and print all the headings in the document. You should implement your class as a subclass of HTMLParser, defined in Standard Library module html.parser. When fed a string containing HTML code, your class should print the headings, one per line and in the order in which they appear in the document. Each heading should be indented as follows: an h1 heading should haveindentation 0, and h2 heading should have indentation 1, etc."
   ]
  },
  {
   "cell_type": "code",
   "execution_count": 22,
   "id": "542da4c9",
   "metadata": {},
   "outputs": [],
   "source": [
    "from html.parser import HTMLParser\n",
    "from bs4 import BeautifulSoup\n",
    "\n",
    " \n",
    "\n",
    "class HeadingParser(HTMLParser):\n",
    "    def __init__(self):\n",
    "        super().__init__()\n",
    "        self.headings = []\n",
    "        self.indentation = 0\n",
    "\n",
    "    def handle_starttag(self, tag, attrs):\n",
    "        if tag.startswith('h'):\n",
    "            self.indentation = int(tag[1:]) - 1\n",
    "\n",
    "    def handle_endtag(self, tag):\n",
    "        if tag.startswith('h'):\n",
    "            self.indentation = 0\n",
    "            \n",
    "    def handle_data(self, data):\n",
    "        heading = data.strip()\n",
    "        if heading and self.indentation >= 0:\n",
    "            self.headings.append((' ' * self.indentation) + heading)\n",
    "\n",
    "    def print_headings(self):\n",
    "        for heading in self.headings:\n",
    "            print(heading)"
   ]
  },
  {
   "cell_type": "code",
   "execution_count": 23,
   "id": "395ffe5a",
   "metadata": {},
   "outputs": [],
   "source": [
    "infile = open('w3c.html') "
   ]
  },
  {
   "cell_type": "code",
   "execution_count": 24,
   "id": "41b45108",
   "metadata": {},
   "outputs": [],
   "source": [
    "content = infile.read()"
   ]
  },
  {
   "cell_type": "code",
   "execution_count": 25,
   "id": "bcf326e2",
   "metadata": {},
   "outputs": [],
   "source": [
    "infile.close()\n",
    "hp = HeadingParser() "
   ]
  },
  {
   "cell_type": "code",
   "execution_count": 26,
   "id": "f0ecd5f2",
   "metadata": {},
   "outputs": [
    {
     "name": "stdout",
     "output_type": "stream",
     "text": [
      "W3C Mission\n",
      "Principles\n"
     ]
    }
   ],
   "source": [
    "# Create a BeautifulSoup object\n",
    "soup = BeautifulSoup(content, 'html.parser')\n",
    "\n",
    "# Find multiple heading tags (e.g., <h1>, <h2>, etc.)\n",
    "headings = soup.find_all(['h1', 'h2'])  # Modify the tag names as per your HTML structure\n",
    " \n",
    "\n",
    "# Print the text content of each heading\n",
    "for heading in headings:\n",
    "    print(heading.text.strip())"
   ]
  },
  {
   "cell_type": "markdown",
   "id": "9cc4165f",
   "metadata": {},
   "source": [
    "### Question 7)"
   ]
  },
  {
   "cell_type": "markdown",
   "id": "dead8042",
   "metadata": {},
   "source": [
    "Implement recursive function webdir() that takes as input: a URL (as a string) and non-negative integers depth and indent. Your function should visit every web page reachable from the starting URL web page in depth clicks or less, and print each web page's URL. As shown below, indentation, specified by indent,  should be used to indicate the depth of a URL."
   ]
  },
  {
   "cell_type": "code",
   "execution_count": 27,
   "id": "680fa1d2",
   "metadata": {},
   "outputs": [
    {
     "name": "stdout",
     "output_type": "stream",
     "text": [
      "http://reed.cs.depaul.edu/lperkovic/csc242/test1.html\n",
      "    http://reed.cs.depaul.edu/lperkovic/csc242/test2.html\n",
      "        http://reed.cs.depaul.edu/lperkovic/csc242/test4.html\n",
      "    http://reed.cs.depaul.edu/lperkovic/csc242/test3.html\n",
      "        http://reed.cs.depaul.edu/lperkovic/csc242/test4.html\n"
     ]
    }
   ],
   "source": [
    "import requests\n",
    "from bs4 import BeautifulSoup\n",
    "\n",
    "\n",
    "def webdir(url, depth, indent=0):\n",
    "    if depth < 0:\n",
    "        return\n",
    "\n",
    "    try:\n",
    "        response = requests.get(url)\n",
    "        soup = BeautifulSoup(response.text, 'html.parser')\n",
    "        print(' ' * indent + url)\n",
    "\n",
    "        if depth == 0:\n",
    "            return\n",
    "\n",
    "        links = soup.find_all('a')\n",
    "        for link in links:\n",
    "            href = link.get('href')\n",
    "            if href.startswith('http'):\n",
    "                webdir(href, depth - 1, indent + 4)\n",
    "\n",
    "    except requests.exceptions.RequestException:\n",
    "        return\n",
    "    \n",
    "webdir('http://reed.cs.depaul.edu/lperkovic/csc242/test1.html', 2, 0)\n",
    "webdir('http://reed.cs.depaul.edu/lperkovic/csc242/test2.html', 2, 4)\n",
    "webdir('http://reed.cs.depaul.edu/lperkovic/csc242/test4.html', 2, 8)\n",
    "webdir('http://reed.cs.depaul.edu/lperkovic/csc242/test3.html', 2, 4)\n",
    "webdir('http://reed.cs.depaul.edu/lperkovic/csc242/test4.html', 2, 8)"
   ]
  },
  {
   "cell_type": "markdown",
   "id": "d82baeb6",
   "metadata": {},
   "source": [
    "### Question 8)"
   ]
  },
  {
   "cell_type": "markdown",
   "id": "af6da961",
   "metadata": {},
   "source": [
    "Write SQL queries on the below database table that return:  \n",
    "\n",
    "a) All the temperature data. \n",
    "\n",
    "b) All the cities, but without repetition. \n",
    "\n",
    "c) All the records for India. \n",
    "\n",
    "d) All the Fall records. \n",
    "\n",
    "e) The city, country, and season for which the average rainfall is between 200 and 400 millimeters. \n",
    "\n",
    "f) The city and country for which the average Fall temperature is above 20 degrees, in increasing temperature order. \n",
    "\n",
    "g) The total annual rainfall for Cairo. \n",
    "\n",
    "h) The total rainfall for each season. "
   ]
  },
  {
   "cell_type": "code",
   "execution_count": 28,
   "id": "400df836",
   "metadata": {},
   "outputs": [],
   "source": [
    "#!/usr/bin/python\n",
    "\n",
    "import sqlite3\n",
    "\n",
    "conn = sqlite3.connect('test_database') \n",
    "c = conn.cursor()\n",
    "\n",
    "#importing SQLlite"
   ]
  },
  {
   "cell_type": "code",
   "execution_count": 29,
   "id": "f095e6e0",
   "metadata": {},
   "outputs": [
    {
     "data": {
      "text/plain": [
       "<sqlite3.Cursor at 0x2a0eb061740>"
      ]
     },
     "execution_count": 29,
     "metadata": {},
     "output_type": "execute_result"
    }
   ],
   "source": [
    "c.execute('''\n",
    "          CREATE TABLE IF NOT EXISTS Weather(\n",
    "          [City] TEXT,\n",
    "          [Country] TEXT,\n",
    "          [Season] TEXT,\n",
    "          [Temperature] Real,\n",
    "          [Rainfall] Real\n",
    "          );''')\n",
    "          \n",
    "#creating table\n"
   ]
  },
  {
   "cell_type": "code",
   "execution_count": 30,
   "id": "d5f8a5b9",
   "metadata": {},
   "outputs": [
    {
     "data": {
      "text/plain": [
       "<sqlite3.Cursor at 0x2a0eb061740>"
      ]
     },
     "execution_count": 30,
     "metadata": {},
     "output_type": "execute_result"
    }
   ],
   "source": [
    "c.execute('''\n",
    "          INSERT INTO Weather (City, Country ,Season ,Temperature,Rainfall)\n",
    "\n",
    "                VALUES\n",
    "                ('Mumbai','India','Winter',24.8,5.9),\n",
    "                ('Mumbai','India','Spring',28.4,16.2),\n",
    "                ('Mumbai','India','Summer',27.9,1549.4),\n",
    "                ('Mumbai','India','Fall',27.6,346.0),\n",
    "                ('London','United Kingdom','Winter',4.2,207.7),\n",
    "                ('London','United Kingdom','Spring',8.3,169.6),\n",
    "                ('London','United Kingdom','Summer',15.7,157.0),\n",
    "                ('London','United Kingdom','Fall',10.4,218.5),\n",
    "                ('Cairo','Egypt','Winter',13.6,16.5),\n",
    "                ('Cairo','Egypt','Spring',20.7,6.5),\n",
    "                ('Cairo','Egypt','Summer',27.7,0.1),\n",
    "                ('Cairo','Egypt','Fall',22.2,4.5)\n",
    "          ''')\n",
    "#Inserting values into table"
   ]
  },
  {
   "cell_type": "code",
   "execution_count": 31,
   "id": "2d67f5d3",
   "metadata": {},
   "outputs": [
    {
     "data": {
      "text/plain": [
       "<sqlite3.Cursor at 0x2a0eb061740>"
      ]
     },
     "execution_count": 31,
     "metadata": {},
     "output_type": "execute_result"
    }
   ],
   "source": [
    "c.execute(\"SELECT Temperature FROM Weather\")\n",
    "\n",
    "#All the temperature data."
   ]
  },
  {
   "cell_type": "code",
   "execution_count": 32,
   "id": "54148773",
   "metadata": {},
   "outputs": [
    {
     "name": "stdout",
     "output_type": "stream",
     "text": [
      "[(24.8,), (28.4,), (27.9,), (27.6,), (4.2,), (8.3,), (15.7,), (10.4,), (13.6,), (20.7,), (27.7,), (22.2,)]\n"
     ]
    }
   ],
   "source": [
    "print(c.fetchall())"
   ]
  },
  {
   "cell_type": "code",
   "execution_count": 33,
   "id": "75155878",
   "metadata": {},
   "outputs": [
    {
     "name": "stdout",
     "output_type": "stream",
     "text": [
      "[('Mumbai',), ('London',), ('Cairo',)]\n"
     ]
    }
   ],
   "source": [
    "c.execute(\"SELECT DISTINCT City FROM Weather\")\n",
    "print(c.fetchall())\n",
    "\n",
    "#All the cities, but without repetition."
   ]
  },
  {
   "cell_type": "code",
   "execution_count": 34,
   "id": "d9bad652",
   "metadata": {},
   "outputs": [
    {
     "name": "stdout",
     "output_type": "stream",
     "text": [
      "[('Mumbai', 'India', 'Winter', 24.8, 5.9), ('Mumbai', 'India', 'Spring', 28.4, 16.2), ('Mumbai', 'India', 'Summer', 27.9, 1549.4), ('Mumbai', 'India', 'Fall', 27.6, 346.0)]\n"
     ]
    }
   ],
   "source": [
    "c.execute(\"SELECT * FROM Weather WHERE Country = 'India'\")\n",
    "print(c.fetchall())\n",
    "\n",
    "#All the records for India. "
   ]
  },
  {
   "cell_type": "code",
   "execution_count": 35,
   "id": "5f2c119b",
   "metadata": {},
   "outputs": [
    {
     "name": "stdout",
     "output_type": "stream",
     "text": [
      "[('Mumbai', 'India', 'Fall', 27.6, 346.0), ('London', 'United Kingdom', 'Fall', 10.4, 218.5), ('Cairo', 'Egypt', 'Fall', 22.2, 4.5)]\n"
     ]
    }
   ],
   "source": [
    "c.execute(\"SELECT * FROM Weather WHERE Season = 'Fall'\")\n",
    "print(c.fetchall())\n",
    "\n",
    "#All the Fall records."
   ]
  },
  {
   "cell_type": "code",
   "execution_count": 36,
   "id": "3c5ccae9",
   "metadata": {},
   "outputs": [
    {
     "name": "stdout",
     "output_type": "stream",
     "text": [
      "[('Mumbai', 'India', 'Fall'), ('London', 'United Kingdom', 'Winter'), ('London', 'United Kingdom', 'Fall')]\n"
     ]
    }
   ],
   "source": [
    "c.execute(\"SELECT City, Country, Season FROM Weather WHERE Rainfall Between 200 AND 400\")\n",
    "print(c.fetchall())\n",
    "\n",
    "#The city, country, and season for which the average rainfall is between 200 and 400 millimeters."
   ]
  },
  {
   "cell_type": "code",
   "execution_count": 37,
   "id": "88a4e9a0",
   "metadata": {},
   "outputs": [
    {
     "name": "stdout",
     "output_type": "stream",
     "text": [
      "[('Cairo', 'Egypt'), ('Mumbai', 'India')]\n"
     ]
    }
   ],
   "source": [
    "c.execute(\"SELECT City, Country FROM Weather WHERE Season = 'Fall' AND Temperature>20 Order by Temperature\")\n",
    "print(c.fetchall())\n",
    "\n",
    "#The city and country for which the average Fall temperature is above 20 degrees, in increasing temperature order. "
   ]
  },
  {
   "cell_type": "code",
   "execution_count": 38,
   "id": "ec6f710d",
   "metadata": {},
   "outputs": [
    {
     "name": "stdout",
     "output_type": "stream",
     "text": [
      "[(27.6,)]\n"
     ]
    }
   ],
   "source": [
    "c.execute(\"SELECT Sum(Rainfall) FROM Weather WHERE City = 'Cairo'\")\n",
    "print(c.fetchall())\n",
    "\n",
    "#The total annual rainfall for Cairo. "
   ]
  },
  {
   "cell_type": "code",
   "execution_count": 39,
   "id": "822ef739",
   "metadata": {},
   "outputs": [
    {
     "name": "stdout",
     "output_type": "stream",
     "text": [
      "[('Fall', 569.0), ('Spring', 192.29999999999998), ('Summer', 1706.5), ('Winter', 230.1)]\n"
     ]
    }
   ],
   "source": [
    "c.execute(\"SELECT Season, Sum(Rainfall) FROM Weather GROUP BY Season\")\n",
    "print(c.fetchall())\n",
    "\n",
    "#The total rainfall for each season."
   ]
  },
  {
   "cell_type": "markdown",
   "id": "3af5491d",
   "metadata": {},
   "source": [
    "### Question 9)"
   ]
  },
  {
   "cell_type": "markdown",
   "id": "f01d6f6f",
   "metadata": {},
   "source": [
    "Suppose list words is defined as follows: \n",
    "    \n",
    "words = ['The', 'quick', 'brown', 'fox', 'jumps', 'over', 'the', 'lazy', 'dog'] \n",
    "\n",
    "Write list comprehension expressions that use list words and generate the following lists: "
   ]
  },
  {
   "cell_type": "code",
   "execution_count": 40,
   "id": "02b8e953",
   "metadata": {},
   "outputs": [],
   "source": [
    "words = ['The', 'quick', 'brown', 'fox', 'jumps', 'over', 'the', 'lazy', 'dog']\n",
    "\n",
    "#list"
   ]
  },
  {
   "cell_type": "code",
   "execution_count": 41,
   "id": "f7b6836c",
   "metadata": {},
   "outputs": [],
   "source": [
    "Upper = [word.upper() for word in words]\n",
    "\n",
    "#for uppercase of the list words"
   ]
  },
  {
   "cell_type": "code",
   "execution_count": 42,
   "id": "392bda06",
   "metadata": {},
   "outputs": [
    {
     "name": "stdout",
     "output_type": "stream",
     "text": [
      "['THE', 'QUICK', 'BROWN', 'FOX', 'JUMPS', 'OVER', 'THE', 'LAZY', 'DOG']\n"
     ]
    }
   ],
   "source": [
    "print(Upper)"
   ]
  },
  {
   "cell_type": "code",
   "execution_count": 43,
   "id": "e7802e82",
   "metadata": {},
   "outputs": [],
   "source": [
    "Lower = [word.lower() for word in words]\n",
    "\n",
    "#to convert ot lowercase"
   ]
  },
  {
   "cell_type": "code",
   "execution_count": 44,
   "id": "673093d5",
   "metadata": {},
   "outputs": [
    {
     "name": "stdout",
     "output_type": "stream",
     "text": [
      "['the', 'quick', 'brown', 'fox', 'jumps', 'over', 'the', 'lazy', 'dog']\n"
     ]
    }
   ],
   "source": [
    "print(Lower)"
   ]
  },
  {
   "cell_type": "code",
   "execution_count": 45,
   "id": "2eb58f03",
   "metadata": {},
   "outputs": [],
   "source": [
    "length = [len(word) for word in words]\n",
    "\n",
    "#length of the words in the list"
   ]
  },
  {
   "cell_type": "code",
   "execution_count": 46,
   "id": "fde49fe7",
   "metadata": {},
   "outputs": [
    {
     "name": "stdout",
     "output_type": "stream",
     "text": [
      "[3, 5, 5, 3, 5, 4, 3, 4, 3]\n"
     ]
    }
   ],
   "source": [
    "print(length)"
   ]
  },
  {
   "cell_type": "code",
   "execution_count": 47,
   "id": "21d46174",
   "metadata": {},
   "outputs": [],
   "source": [
    "UPLOWLEN = [[word.upper(), word.lower(), len(word)] for word in words]\n",
    "\n",
    "#the list containing a list for every word of list words, where each list contains the word in uppercase and lowercase and the length of the word"
   ]
  },
  {
   "cell_type": "code",
   "execution_count": 48,
   "id": "701cbedd",
   "metadata": {},
   "outputs": [
    {
     "name": "stdout",
     "output_type": "stream",
     "text": [
      "[['THE', 'the', 3], ['QUICK', 'quick', 5], ['BROWN', 'brown', 5], ['FOX', 'fox', 3], ['JUMPS', 'jumps', 5], ['OVER', 'over', 4], ['THE', 'the', 3], ['LAZY', 'lazy', 4], ['DOG', 'dog', 3]]\n"
     ]
    }
   ],
   "source": [
    "print(UPLOWLEN)"
   ]
  },
  {
   "cell_type": "code",
   "execution_count": 49,
   "id": "15786fa0",
   "metadata": {},
   "outputs": [],
   "source": [
    "Greater4 = [word for word in words if len(word) > 3]\n",
    "\n",
    "#(the list of words in list words containing 4 or more characters"
   ]
  },
  {
   "cell_type": "code",
   "execution_count": 50,
   "id": "48080bef",
   "metadata": {},
   "outputs": [
    {
     "name": "stdout",
     "output_type": "stream",
     "text": [
      "['quick', 'brown', 'jumps', 'over', 'lazy']\n"
     ]
    }
   ],
   "source": [
    "print(Greater4)"
   ]
  }
 ],
 "metadata": {
  "kernelspec": {
   "display_name": "Python 3 (ipykernel)",
   "language": "python",
   "name": "python3"
  },
  "language_info": {
   "codemirror_mode": {
    "name": "ipython",
    "version": 3
   },
   "file_extension": ".py",
   "mimetype": "text/x-python",
   "name": "python",
   "nbconvert_exporter": "python",
   "pygments_lexer": "ipython3",
   "version": "3.10.9"
  }
 },
 "nbformat": 4,
 "nbformat_minor": 5
}
